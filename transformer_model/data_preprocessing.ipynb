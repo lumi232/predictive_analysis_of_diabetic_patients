{
 "cells": [
  {
   "cell_type": "code",
   "execution_count": 1,
   "metadata": {},
   "outputs": [],
   "source": [
    "import torch \n",
    "import pandas as pd\n",
    "import numpy as np"
   ]
  },
  {
   "cell_type": "code",
   "execution_count": 2,
   "metadata": {},
   "outputs": [],
   "source": [
    "data = pd.read_csv(\"data/Type1dataset.csv\")\n"
   ]
  },
  {
   "cell_type": "code",
   "execution_count": 3,
   "metadata": {},
   "outputs": [
    {
     "data": {
      "text/html": [
       "<div>\n",
       "<style scoped>\n",
       "    .dataframe tbody tr th:only-of-type {\n",
       "        vertical-align: middle;\n",
       "    }\n",
       "\n",
       "    .dataframe tbody tr th {\n",
       "        vertical-align: top;\n",
       "    }\n",
       "\n",
       "    .dataframe thead th {\n",
       "        text-align: right;\n",
       "    }\n",
       "</style>\n",
       "<table border=\"1\" class=\"dataframe\">\n",
       "  <thead>\n",
       "    <tr style=\"text-align: right;\">\n",
       "      <th></th>\n",
       "      <th>DisplayTime</th>\n",
       "      <th>GlucoseValue</th>\n",
       "      <th>subjectId</th>\n",
       "      <th>InternalTime</th>\n",
       "    </tr>\n",
       "  </thead>\n",
       "  <tbody>\n",
       "    <tr>\n",
       "      <th>0</th>\n",
       "      <td>03-02-2014 03:42</td>\n",
       "      <td>93</td>\n",
       "      <td>1636-69-001</td>\n",
       "      <td>03-02-2016 00:05</td>\n",
       "    </tr>\n",
       "    <tr>\n",
       "      <th>1</th>\n",
       "      <td>03-02-2014 03:47</td>\n",
       "      <td>93</td>\n",
       "      <td>1636-69-001</td>\n",
       "      <td>03-02-2016 00:10</td>\n",
       "    </tr>\n",
       "    <tr>\n",
       "      <th>2</th>\n",
       "      <td>03-02-2014 03:52</td>\n",
       "      <td>93</td>\n",
       "      <td>1636-69-001</td>\n",
       "      <td>03-02-2016 00:15</td>\n",
       "    </tr>\n",
       "    <tr>\n",
       "      <th>3</th>\n",
       "      <td>03-02-2014 03:57</td>\n",
       "      <td>95</td>\n",
       "      <td>1636-69-001</td>\n",
       "      <td>03-02-2016 00:20</td>\n",
       "    </tr>\n",
       "    <tr>\n",
       "      <th>4</th>\n",
       "      <td>03-02-2014 04:02</td>\n",
       "      <td>96</td>\n",
       "      <td>1636-69-001</td>\n",
       "      <td>03-02-2016 00:25</td>\n",
       "    </tr>\n",
       "    <tr>\n",
       "      <th>...</th>\n",
       "      <td>...</td>\n",
       "      <td>...</td>\n",
       "      <td>...</td>\n",
       "      <td>...</td>\n",
       "    </tr>\n",
       "    <tr>\n",
       "      <th>105421</th>\n",
       "      <td>11-07-2017 20:21</td>\n",
       "      <td>70</td>\n",
       "      <td>2133-041</td>\n",
       "      <td>12-07-2017 04:21</td>\n",
       "    </tr>\n",
       "    <tr>\n",
       "      <th>105422</th>\n",
       "      <td>11-07-2017 20:26</td>\n",
       "      <td>64</td>\n",
       "      <td>2133-041</td>\n",
       "      <td>12-07-2017 04:26</td>\n",
       "    </tr>\n",
       "    <tr>\n",
       "      <th>105423</th>\n",
       "      <td>11-07-2017 20:31</td>\n",
       "      <td>61</td>\n",
       "      <td>2133-041</td>\n",
       "      <td>12-07-2017 04:31</td>\n",
       "    </tr>\n",
       "    <tr>\n",
       "      <th>105424</th>\n",
       "      <td>11-07-2017 20:36</td>\n",
       "      <td>62</td>\n",
       "      <td>2133-041</td>\n",
       "      <td>12-07-2017 04:36</td>\n",
       "    </tr>\n",
       "    <tr>\n",
       "      <th>105425</th>\n",
       "      <td>11-07-2017 20:41</td>\n",
       "      <td>66</td>\n",
       "      <td>2133-041</td>\n",
       "      <td>12-07-2017 04:41</td>\n",
       "    </tr>\n",
       "  </tbody>\n",
       "</table>\n",
       "<p>105426 rows × 4 columns</p>\n",
       "</div>"
      ],
      "text/plain": [
       "             DisplayTime GlucoseValue    subjectId      InternalTime\n",
       "0       03-02-2014 03:42           93  1636-69-001  03-02-2016 00:05\n",
       "1       03-02-2014 03:47           93  1636-69-001  03-02-2016 00:10\n",
       "2       03-02-2014 03:52           93  1636-69-001  03-02-2016 00:15\n",
       "3       03-02-2014 03:57           95  1636-69-001  03-02-2016 00:20\n",
       "4       03-02-2014 04:02           96  1636-69-001  03-02-2016 00:25\n",
       "...                  ...          ...          ...               ...\n",
       "105421  11-07-2017 20:21           70     2133-041  12-07-2017 04:21\n",
       "105422  11-07-2017 20:26           64     2133-041  12-07-2017 04:26\n",
       "105423  11-07-2017 20:31           61     2133-041  12-07-2017 04:31\n",
       "105424  11-07-2017 20:36           62     2133-041  12-07-2017 04:36\n",
       "105425  11-07-2017 20:41           66     2133-041  12-07-2017 04:41\n",
       "\n",
       "[105426 rows x 4 columns]"
      ]
     },
     "execution_count": 3,
     "metadata": {},
     "output_type": "execute_result"
    }
   ],
   "source": [
    "data"
   ]
  },
  {
   "cell_type": "code",
   "execution_count": 4,
   "metadata": {},
   "outputs": [],
   "source": [
    "data.drop(['subjectId', 'InternalTime'], inplace=True, axis=1)\n"
   ]
  },
  {
   "cell_type": "code",
   "execution_count": 5,
   "metadata": {},
   "outputs": [
    {
     "data": {
      "text/html": [
       "<div>\n",
       "<style scoped>\n",
       "    .dataframe tbody tr th:only-of-type {\n",
       "        vertical-align: middle;\n",
       "    }\n",
       "\n",
       "    .dataframe tbody tr th {\n",
       "        vertical-align: top;\n",
       "    }\n",
       "\n",
       "    .dataframe thead th {\n",
       "        text-align: right;\n",
       "    }\n",
       "</style>\n",
       "<table border=\"1\" class=\"dataframe\">\n",
       "  <thead>\n",
       "    <tr style=\"text-align: right;\">\n",
       "      <th></th>\n",
       "      <th>DisplayTime</th>\n",
       "      <th>GlucoseValue</th>\n",
       "    </tr>\n",
       "  </thead>\n",
       "  <tbody>\n",
       "    <tr>\n",
       "      <th>0</th>\n",
       "      <td>03-02-2014 03:42</td>\n",
       "      <td>93</td>\n",
       "    </tr>\n",
       "    <tr>\n",
       "      <th>1</th>\n",
       "      <td>03-02-2014 03:47</td>\n",
       "      <td>93</td>\n",
       "    </tr>\n",
       "    <tr>\n",
       "      <th>2</th>\n",
       "      <td>03-02-2014 03:52</td>\n",
       "      <td>93</td>\n",
       "    </tr>\n",
       "    <tr>\n",
       "      <th>3</th>\n",
       "      <td>03-02-2014 03:57</td>\n",
       "      <td>95</td>\n",
       "    </tr>\n",
       "    <tr>\n",
       "      <th>4</th>\n",
       "      <td>03-02-2014 04:02</td>\n",
       "      <td>96</td>\n",
       "    </tr>\n",
       "    <tr>\n",
       "      <th>...</th>\n",
       "      <td>...</td>\n",
       "      <td>...</td>\n",
       "    </tr>\n",
       "    <tr>\n",
       "      <th>105421</th>\n",
       "      <td>11-07-2017 20:21</td>\n",
       "      <td>70</td>\n",
       "    </tr>\n",
       "    <tr>\n",
       "      <th>105422</th>\n",
       "      <td>11-07-2017 20:26</td>\n",
       "      <td>64</td>\n",
       "    </tr>\n",
       "    <tr>\n",
       "      <th>105423</th>\n",
       "      <td>11-07-2017 20:31</td>\n",
       "      <td>61</td>\n",
       "    </tr>\n",
       "    <tr>\n",
       "      <th>105424</th>\n",
       "      <td>11-07-2017 20:36</td>\n",
       "      <td>62</td>\n",
       "    </tr>\n",
       "    <tr>\n",
       "      <th>105425</th>\n",
       "      <td>11-07-2017 20:41</td>\n",
       "      <td>66</td>\n",
       "    </tr>\n",
       "  </tbody>\n",
       "</table>\n",
       "<p>105426 rows × 2 columns</p>\n",
       "</div>"
      ],
      "text/plain": [
       "             DisplayTime GlucoseValue\n",
       "0       03-02-2014 03:42           93\n",
       "1       03-02-2014 03:47           93\n",
       "2       03-02-2014 03:52           93\n",
       "3       03-02-2014 03:57           95\n",
       "4       03-02-2014 04:02           96\n",
       "...                  ...          ...\n",
       "105421  11-07-2017 20:21           70\n",
       "105422  11-07-2017 20:26           64\n",
       "105423  11-07-2017 20:31           61\n",
       "105424  11-07-2017 20:36           62\n",
       "105425  11-07-2017 20:41           66\n",
       "\n",
       "[105426 rows x 2 columns]"
      ]
     },
     "execution_count": 5,
     "metadata": {},
     "output_type": "execute_result"
    }
   ],
   "source": [
    "data"
   ]
  },
  {
   "cell_type": "code",
   "execution_count": 6,
   "metadata": {},
   "outputs": [],
   "source": [
    "data = data.replace({\"Low\" : \"40\"}, regex=True)"
   ]
  },
  {
   "cell_type": "code",
   "execution_count": 7,
   "metadata": {},
   "outputs": [],
   "source": [
    "data['GlucoseValue'] = data['GlucoseValue'].astype(float)"
   ]
  },
  {
   "cell_type": "code",
   "execution_count": 8,
   "metadata": {},
   "outputs": [],
   "source": [
    "data.to_csv(r'data/processed_data.csv')"
   ]
  }
 ],
 "metadata": {
  "kernelspec": {
   "display_name": "Python 3.10.6 ('MLenv')",
   "language": "python",
   "name": "python3"
  },
  "language_info": {
   "codemirror_mode": {
    "name": "ipython",
    "version": 3
   },
   "file_extension": ".py",
   "mimetype": "text/x-python",
   "name": "python",
   "nbconvert_exporter": "python",
   "pygments_lexer": "ipython3",
   "version": "3.10.6"
  },
  "orig_nbformat": 4,
  "vscode": {
   "interpreter": {
    "hash": "efab3ecd4523442fa79db706490408114ee91a2cbe83f5bad2313e18cf171fd0"
   }
  }
 },
 "nbformat": 4,
 "nbformat_minor": 2
}
